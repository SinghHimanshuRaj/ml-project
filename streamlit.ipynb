{
 "cells": [
  {
   "cell_type": "code",
   "execution_count": 22,
   "metadata": {},
   "outputs": [],
   "source": [
    "import streamlit as st\n",
    "import tensorflow_hub as hub\n",
    "from sklearn.neighbors import NearestNeighbors\n",
    "\n",
    "\n",
    "import pandas as pd \n",
    "import pickle"
   ]
  },
  {
   "cell_type": "code",
   "execution_count": 14,
   "metadata": {},
   "outputs": [],
   "source": [
    "df = pd.read_csv(\"/Users/himanshukumarsingh/Downloads/MSc clg stuffs/Sem 2/project/ml project/Top_10000_Movies.csv\", engine = 'python')\n",
    "\n",
    "model_path = \"/Users/himanshukumarsingh/Downloads/MSc clg stuffs/Sem 2/project/archive\"\n",
    "model = hub.load(model_path)\n"
   ]
  },
  {
   "cell_type": "code",
   "execution_count": 16,
   "metadata": {},
   "outputs": [],
   "source": [
    "df = df[['genre','original_title','overview','original_language']]\n",
    "df = df.dropna()\n"
   ]
  },
  {
   "cell_type": "code",
   "execution_count": 17,
   "metadata": {},
   "outputs": [],
   "source": [
    "overviews = list(df['overview'])\n",
    "titles = list(df['original_title'])\n",
    "languages = list(df['original_language'])"
   ]
  },
  {
   "cell_type": "code",
   "execution_count": null,
   "metadata": {},
   "outputs": [],
   "source": [
    "# this function outputs the embedding for the given text\n",
    "def embed(texts):\n",
    "    return model(texts)\n",
    "\n",
    "def recommend(choice,text):\n",
    "    emb = embed([text])\n",
    "    if choice == 1:\n",
    "        neighbors = nn_1.kneighbors(emb, return_distance=False)[0]\n",
    "        return df['original_title'].iloc[neighbors].tolist()\n",
    "    \n",
    "    elif choice == 2:\n",
    "        neighbors = nn_2.kneighbors(emb, return_distance=False)[0]\n",
    "        return df['original_title'].iloc[neighbors].tolist()\n",
    "    \n",
    "    elif choice == 3:\n",
    "        neighbors = nn_3.kneighbors(emb, return_distance=False)[0]\n",
    "        return df['original_title'].iloc[neighbors].tolist()"
   ]
  },
  {
   "cell_type": "code",
   "execution_count": 20,
   "metadata": {},
   "outputs": [],
   "source": [
    "embeddings_1 = embed(overviews)\n",
    "embeddings_2 = embed(titles)\n",
    "embeddings_3 = embed(languages)"
   ]
  },
  {
   "cell_type": "code",
   "execution_count": 23,
   "metadata": {},
   "outputs": [
    {
     "data": {
      "text/html": [
       "<style>#sk-container-id-1 {color: black;}#sk-container-id-1 pre{padding: 0;}#sk-container-id-1 div.sk-toggleable {background-color: white;}#sk-container-id-1 label.sk-toggleable__label {cursor: pointer;display: block;width: 100%;margin-bottom: 0;padding: 0.3em;box-sizing: border-box;text-align: center;}#sk-container-id-1 label.sk-toggleable__label-arrow:before {content: \"▸\";float: left;margin-right: 0.25em;color: #696969;}#sk-container-id-1 label.sk-toggleable__label-arrow:hover:before {color: black;}#sk-container-id-1 div.sk-estimator:hover label.sk-toggleable__label-arrow:before {color: black;}#sk-container-id-1 div.sk-toggleable__content {max-height: 0;max-width: 0;overflow: hidden;text-align: left;background-color: #f0f8ff;}#sk-container-id-1 div.sk-toggleable__content pre {margin: 0.2em;color: black;border-radius: 0.25em;background-color: #f0f8ff;}#sk-container-id-1 input.sk-toggleable__control:checked~div.sk-toggleable__content {max-height: 200px;max-width: 100%;overflow: auto;}#sk-container-id-1 input.sk-toggleable__control:checked~label.sk-toggleable__label-arrow:before {content: \"▾\";}#sk-container-id-1 div.sk-estimator input.sk-toggleable__control:checked~label.sk-toggleable__label {background-color: #d4ebff;}#sk-container-id-1 div.sk-label input.sk-toggleable__control:checked~label.sk-toggleable__label {background-color: #d4ebff;}#sk-container-id-1 input.sk-hidden--visually {border: 0;clip: rect(1px 1px 1px 1px);clip: rect(1px, 1px, 1px, 1px);height: 1px;margin: -1px;overflow: hidden;padding: 0;position: absolute;width: 1px;}#sk-container-id-1 div.sk-estimator {font-family: monospace;background-color: #f0f8ff;border: 1px dotted black;border-radius: 0.25em;box-sizing: border-box;margin-bottom: 0.5em;}#sk-container-id-1 div.sk-estimator:hover {background-color: #d4ebff;}#sk-container-id-1 div.sk-parallel-item::after {content: \"\";width: 100%;border-bottom: 1px solid gray;flex-grow: 1;}#sk-container-id-1 div.sk-label:hover label.sk-toggleable__label {background-color: #d4ebff;}#sk-container-id-1 div.sk-serial::before {content: \"\";position: absolute;border-left: 1px solid gray;box-sizing: border-box;top: 0;bottom: 0;left: 50%;z-index: 0;}#sk-container-id-1 div.sk-serial {display: flex;flex-direction: column;align-items: center;background-color: white;padding-right: 0.2em;padding-left: 0.2em;position: relative;}#sk-container-id-1 div.sk-item {position: relative;z-index: 1;}#sk-container-id-1 div.sk-parallel {display: flex;align-items: stretch;justify-content: center;background-color: white;position: relative;}#sk-container-id-1 div.sk-item::before, #sk-container-id-1 div.sk-parallel-item::before {content: \"\";position: absolute;border-left: 1px solid gray;box-sizing: border-box;top: 0;bottom: 0;left: 50%;z-index: -1;}#sk-container-id-1 div.sk-parallel-item {display: flex;flex-direction: column;z-index: 1;position: relative;background-color: white;}#sk-container-id-1 div.sk-parallel-item:first-child::after {align-self: flex-end;width: 50%;}#sk-container-id-1 div.sk-parallel-item:last-child::after {align-self: flex-start;width: 50%;}#sk-container-id-1 div.sk-parallel-item:only-child::after {width: 0;}#sk-container-id-1 div.sk-dashed-wrapped {border: 1px dashed gray;margin: 0 0.4em 0.5em 0.4em;box-sizing: border-box;padding-bottom: 0.4em;background-color: white;}#sk-container-id-1 div.sk-label label {font-family: monospace;font-weight: bold;display: inline-block;line-height: 1.2em;}#sk-container-id-1 div.sk-label-container {text-align: center;}#sk-container-id-1 div.sk-container {/* jupyter's `normalize.less` sets `[hidden] { display: none; }` but bootstrap.min.css set `[hidden] { display: none !important; }` so we also need the `!important` here to be able to override the default hidden behavior on the sphinx rendered scikit-learn.org. See: https://github.com/scikit-learn/scikit-learn/issues/21755 */display: inline-block !important;position: relative;}#sk-container-id-1 div.sk-text-repr-fallback {display: none;}</style><div id=\"sk-container-id-1\" class=\"sk-top-container\"><div class=\"sk-text-repr-fallback\"><pre>NearestNeighbors(n_neighbors=10)</pre><b>In a Jupyter environment, please rerun this cell to show the HTML representation or trust the notebook. <br />On GitHub, the HTML representation is unable to render, please try loading this page with nbviewer.org.</b></div><div class=\"sk-container\" hidden><div class=\"sk-item\"><div class=\"sk-estimator sk-toggleable\"><input class=\"sk-toggleable__control sk-hidden--visually\" id=\"sk-estimator-id-1\" type=\"checkbox\" checked><label for=\"sk-estimator-id-1\" class=\"sk-toggleable__label sk-toggleable__label-arrow\">NearestNeighbors</label><div class=\"sk-toggleable__content\"><pre>NearestNeighbors(n_neighbors=10)</pre></div></div></div></div></div>"
      ],
      "text/plain": [
       "NearestNeighbors(n_neighbors=10)"
      ]
     },
     "execution_count": 23,
     "metadata": {},
     "output_type": "execute_result"
    }
   ],
   "source": [
    "nn_1 = NearestNeighbors(n_neighbors=10)\n",
    "nn_1.fit(embeddings_1)\n",
    "\n",
    "nn_2 = NearestNeighbors(n_neighbors=10)\n",
    "nn_2.fit(embeddings_2)\n",
    "\n",
    "nn_3 = NearestNeighbors(n_neighbors=10)\n",
    "nn_3.fit(embeddings_3)"
   ]
  },
  {
   "cell_type": "code",
   "execution_count": null,
   "metadata": {},
   "outputs": [],
   "source": [
    "st.title(\"Movie Recommendation System\")\n",
    "\n",
    "mood = st.radio('Wanna get some awesome movies according to the mood?',\n",
    "            ('Yes🤩','Obviouisly☺️','Ofcourse😄','No😒'))\n",
    "\n",
    "if mood == 'Yes🤩' or 'Obviouisly☺️' or 'Ofcourse😄':\n",
    "    \n",
    "    option = st.selectbox(\n",
    "        \"On what basis do you want the movie recommendation?\",\n",
    "        (\"Genre/Keyword\",\"Movie Name\",\"Language\"))\n",
    "\n",
    "    if option == 'Genre/Keyword':\n",
    "        choice = 1\n",
    "        response = st.text_input('Enter any genre/keyword')\n",
    "\n",
    "    elif option == 'Movie Name':\n",
    "        choice = 2\n",
    "        response = st.text_input('Enter any movie name')\n",
    "\n",
    "    elif option == 'Language':\n",
    "        choice = 3\n",
    "        response = st.text_input('Enter the first two alphabets of any language')\n",
    "        \n",
    "    output = recommend(choice, response)\n",
    "        \n",
    "    if st.button('Get Recommendations'):\n",
    "        if response:\n",
    "            st.write(\"Recommended Movies are:\")\n",
    "            for movie in output:\n",
    "                st.write(movie)\n",
    "                \n",
    "        else:\n",
    "            st.write(\"How can I recommend anything if you're not ready to tell me about your mood!😢\")\n",
    "        \n",
    "else:\n",
    "    st.write(\"Better I'll take a rest then🥱\")"
   ]
  }
 ],
 "metadata": {
  "kernelspec": {
   "display_name": "Python 3 (ipykernel)",
   "language": "python",
   "name": "python3"
  },
  "language_info": {
   "codemirror_mode": {
    "name": "ipython",
    "version": 3
   },
   "file_extension": ".py",
   "mimetype": "text/x-python",
   "name": "python",
   "nbconvert_exporter": "python",
   "pygments_lexer": "ipython3",
   "version": "3.11.5"
  }
 },
 "nbformat": 4,
 "nbformat_minor": 2
}
